{
  "nbformat": 4,
  "nbformat_minor": 0,
  "metadata": {
    "colab": {
      "provenance": [],
      "authorship_tag": "ABX9TyMtbbmZ2UwOZY40xC+bSk1y",
      "include_colab_link": true
    },
    "kernelspec": {
      "name": "python3",
      "display_name": "Python 3"
    },
    "language_info": {
      "name": "python"
    }
  },
  "cells": [
    {
      "cell_type": "markdown",
      "metadata": {
        "id": "view-in-github",
        "colab_type": "text"
      },
      "source": [
        "<a href=\"https://colab.research.google.com/github/ChenyuDu/firstRProject/blob/main/test_cases.ipynb\" target=\"_parent\"><img src=\"https://colab.research.google.com/assets/colab-badge.svg\" alt=\"Open In Colab\"/></a>"
      ]
    },
    {
      "cell_type": "code",
      "execution_count": 3,
      "metadata": {
        "colab": {
          "base_uri": "https://localhost:8080/"
        },
        "id": "5m4aL0ukWtUX",
        "outputId": "94916ef8-6a7f-4a7d-f82f-a402b27e10a0"
      },
      "outputs": [
        {
          "output_type": "stream",
          "name": "stdout",
          "text": [
            "运动模糊完成！\n"
          ]
        }
      ],
      "source": [
        "import cv2\n",
        "import os\n",
        "import numpy as np\n",
        "\n",
        "# 定义模糊参数的列表\n",
        "blur_lengths = [0, 5, 10, 15, 20, 25]\n",
        "\n",
        "# 定义输入和输出文件夹路径\n",
        "input_folder = 'motion-blurred'\n",
        "output_folder = 'motion-blurred-output'\n",
        "\n",
        "# 创建输出文件夹\n",
        "if not os.path.exists(output_folder):\n",
        "    os.mkdir(output_folder)\n",
        "\n",
        "# 遍历输入文件夹中的图像文件\n",
        "for filename in os.listdir(input_folder):\n",
        "    if filename.endswith('.jpg') or filename.endswith('.png'):\n",
        "        input_path = os.path.join(input_folder, filename)\n",
        "        img = cv2.imread(input_path)\n",
        "\n",
        "        # 遍历不同的模糊参数\n",
        "        for blur_length in blur_lengths:\n",
        "            if blur_length > 0:\n",
        "                # 创建运动模糊核\n",
        "                kernel = np.zeros((blur_length, blur_length))\n",
        "                kernel[int((blur_length-1)/2), :] = np.ones(blur_length)\n",
        "                kernel /= blur_length\n",
        "\n",
        "                # 应用运动模糊\n",
        "                img_blurred = cv2.filter2D(img, -1, kernel)\n",
        "\n",
        "                # 保存模糊图像到输出文件夹\n",
        "                output_filename = f'{filename}_blur_{blur_length}.jpg'\n",
        "                output_path = os.path.join(output_folder, output_filename)\n",
        "                cv2.imwrite(output_path, img_blurred)\n",
        "\n",
        "            else:\n",
        "                # 如果参数为0，直接复制原图像\n",
        "                output_path = os.path.join(output_folder, filename)\n",
        "                cv2.imwrite(output_path, img)\n",
        "\n",
        "print('运动模糊完成！')\n"
      ]
    }
  ]
}